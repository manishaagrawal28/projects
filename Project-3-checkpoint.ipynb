{
 "cells": [
  {
   "cell_type": "code",
   "execution_count": 1,
   "metadata": {},
   "outputs": [],
   "source": [
    "import nltk\n",
    "import re\n",
    "import numpy as np\n",
    "import pandas as pd\n",
    "from pprint import pprint\n",
    "\n",
    "# Gensim\n",
    "import gensim\n",
    "import gensim.corpora as corpora\n",
    "from gensim.utils import simple_preprocess\n",
    "from gensim.models import CoherenceModel\n",
    "\n",
    "# spacy for lemmatization\n",
    "import spacy\n",
    "\n",
    "# Plotting tools\n",
    "import pyLDAvis\n",
    "import pyLDAvis.gensim  # don't skip this\n",
    "import matplotlib.pyplot as plt\n",
    "%matplotlib inline\n",
    "\n",
    "# Enable logging for gensim - optional\n",
    "import logging\n",
    "logging.basicConfig(format='%(asctime)s : %(levelname)s : %(message)s', level=logging.ERROR)\n",
    "\n",
    "import warnings\n",
    "warnings.filterwarnings(\"ignore\",category=DeprecationWarning)"
   ]
  },
  {
   "cell_type": "code",
   "execution_count": 2,
   "metadata": {},
   "outputs": [],
   "source": [
    "# NLTK Stop words\n",
    "from nltk.corpus import stopwords\n",
    "stop_words = stopwords.words('english')\n",
    "stop_words.extend(['from', 'subject', 're', 'edu', 'use'])"
   ]
  },
  {
   "cell_type": "code",
   "execution_count": 3,
   "metadata": {},
   "outputs": [
    {
     "name": "stdout",
     "output_type": "stream",
     "text": [
      "['rec.autos' 'comp.sys.mac.hardware' 'comp.graphics' 'sci.space'\n",
      " 'talk.politics.guns' 'sci.med' 'comp.sys.ibm.pc.hardware'\n",
      " 'comp.os.ms-windows.misc' 'rec.motorcycles' 'talk.religion.misc'\n",
      " 'misc.forsale' 'alt.atheism' 'sci.electronics' 'comp.windows.x'\n",
      " 'rec.sport.hockey' 'rec.sport.baseball' 'soc.religion.christian'\n",
      " 'talk.politics.mideast' 'talk.politics.misc' 'sci.crypt']\n"
     ]
    },
    {
     "data": {
      "text/html": [
       "<div>\n",
       "<style scoped>\n",
       "    .dataframe tbody tr th:only-of-type {\n",
       "        vertical-align: middle;\n",
       "    }\n",
       "\n",
       "    .dataframe tbody tr th {\n",
       "        vertical-align: top;\n",
       "    }\n",
       "\n",
       "    .dataframe thead th {\n",
       "        text-align: right;\n",
       "    }\n",
       "</style>\n",
       "<table border=\"1\" class=\"dataframe\">\n",
       "  <thead>\n",
       "    <tr style=\"text-align: right;\">\n",
       "      <th></th>\n",
       "      <th>content</th>\n",
       "      <th>target</th>\n",
       "      <th>target_names</th>\n",
       "    </tr>\n",
       "  </thead>\n",
       "  <tbody>\n",
       "    <tr>\n",
       "      <th>0</th>\n",
       "      <td>From: lerxst@wam.umd.edu (where's my thing)\\nS...</td>\n",
       "      <td>7</td>\n",
       "      <td>rec.autos</td>\n",
       "    </tr>\n",
       "    <tr>\n",
       "      <th>1</th>\n",
       "      <td>From: guykuo@carson.u.washington.edu (Guy Kuo)...</td>\n",
       "      <td>4</td>\n",
       "      <td>comp.sys.mac.hardware</td>\n",
       "    </tr>\n",
       "    <tr>\n",
       "      <th>2</th>\n",
       "      <td>From: twillis@ec.ecn.purdue.edu (Thomas E Will...</td>\n",
       "      <td>4</td>\n",
       "      <td>comp.sys.mac.hardware</td>\n",
       "    </tr>\n",
       "    <tr>\n",
       "      <th>3</th>\n",
       "      <td>From: jgreen@amber (Joe Green)\\nSubject: Re: W...</td>\n",
       "      <td>1</td>\n",
       "      <td>comp.graphics</td>\n",
       "    </tr>\n",
       "    <tr>\n",
       "      <th>4</th>\n",
       "      <td>From: jcm@head-cfa.harvard.edu (Jonathan McDow...</td>\n",
       "      <td>14</td>\n",
       "      <td>sci.space</td>\n",
       "    </tr>\n",
       "  </tbody>\n",
       "</table>\n",
       "</div>"
      ],
      "text/plain": [
       "                                             content  target  \\\n",
       "0  From: lerxst@wam.umd.edu (where's my thing)\\nS...       7   \n",
       "1  From: guykuo@carson.u.washington.edu (Guy Kuo)...       4   \n",
       "2  From: twillis@ec.ecn.purdue.edu (Thomas E Will...       4   \n",
       "3  From: jgreen@amber (Joe Green)\\nSubject: Re: W...       1   \n",
       "4  From: jcm@head-cfa.harvard.edu (Jonathan McDow...      14   \n",
       "\n",
       "            target_names  \n",
       "0              rec.autos  \n",
       "1  comp.sys.mac.hardware  \n",
       "2  comp.sys.mac.hardware  \n",
       "3          comp.graphics  \n",
       "4              sci.space  "
      ]
     },
     "execution_count": 3,
     "metadata": {},
     "output_type": "execute_result"
    }
   ],
   "source": [
    "# Import Dataset\n",
    "df = pd.read_json('https://raw.githubusercontent.com/selva86/datasets/master/newsgroups.json')\n",
    "print(df.target_names.unique())\n",
    "df.head()"
   ]
  },
  {
   "cell_type": "code",
   "execution_count": 4,
   "metadata": {},
   "outputs": [
    {
     "name": "stdout",
     "output_type": "stream",
     "text": [
      "['From: (wheres my thing) Subject: WHAT car is this!? Nntp-Posting-Host: '\n",
      " 'rac3.wam.umd.edu Organization: University of Maryland, College Park Lines: '\n",
      " '15 I was wondering if anyone out there could enlighten me on this car I saw '\n",
      " 'the other day. It was a 2-door sports car, looked to be from the late 60s/ '\n",
      " 'early 70s. It was called a Bricklin. The doors were really small. In '\n",
      " 'addition, the front bumper was separate from the rest of the body. This is '\n",
      " 'all I know. If anyone can tellme a model name, engine specs, years of '\n",
      " 'production, where this car is made, history, or whatever info you have on '\n",
      " 'this funky looking car, please e-mail. Thanks, - IL ---- brought to you by '\n",
      " 'your neighborhood Lerxst ---- ']\n"
     ]
    }
   ],
   "source": [
    "# Convert to list\n",
    "data = df.content.values.tolist()\n",
    "\n",
    "# Remove Emails\n",
    "data = [re.sub('\\S*@\\S*\\s?', '', sent) for sent in data]\n",
    "\n",
    "# Remove new line characters\n",
    "data = [re.sub('\\s+', ' ', sent) for sent in data]\n",
    "\n",
    "# Remove distracting single quotes\n",
    "data = [re.sub(\"\\'\", \"\", sent) for sent in data]\n",
    "\n",
    "pprint(data[:1])"
   ]
  },
  {
   "cell_type": "code",
   "execution_count": 5,
   "metadata": {},
   "outputs": [
    {
     "name": "stdout",
     "output_type": "stream",
     "text": [
      "[['from', 'wheres', 'my', 'thing', 'subject', 'what', 'car', 'is', 'this', 'nntp', 'posting', 'host', 'rac', 'wam', 'umd', 'edu', 'organization', 'university', 'of', 'maryland', 'college', 'park', 'lines', 'was', 'wondering', 'if', 'anyone', 'out', 'there', 'could', 'enlighten', 'me', 'on', 'this', 'car', 'saw', 'the', 'other', 'day', 'it', 'was', 'door', 'sports', 'car', 'looked', 'to', 'be', 'from', 'the', 'late', 'early', 'it', 'was', 'called', 'bricklin', 'the', 'doors', 'were', 'really', 'small', 'in', 'addition', 'the', 'front', 'bumper', 'was', 'separate', 'from', 'the', 'rest', 'of', 'the', 'body', 'this', 'is', 'all', 'know', 'if', 'anyone', 'can', 'tellme', 'model', 'name', 'engine', 'specs', 'years', 'of', 'production', 'where', 'this', 'car', 'is', 'made', 'history', 'or', 'whatever', 'info', 'you', 'have', 'on', 'this', 'funky', 'looking', 'car', 'please', 'mail', 'thanks', 'il', 'brought', 'to', 'you', 'by', 'your', 'neighborhood', 'lerxst']]\n"
     ]
    }
   ],
   "source": [
    "def sent_to_words(sentences):\n",
    "    for sentence in sentences:\n",
    "        yield(gensim.utils.simple_preprocess(str(sentence), deacc=True))  # deacc=True removes punctuations\n",
    "\n",
    "data_words = list(sent_to_words(data))\n",
    "\n",
    "print(data_words[:1])"
   ]
  },
  {
   "cell_type": "code",
   "execution_count": 6,
   "metadata": {},
   "outputs": [
    {
     "name": "stdout",
     "output_type": "stream",
     "text": [
      "['from', 'wheres', 'my', 'thing', 'subject', 'what', 'car', 'is', 'this', 'nntp_posting_host', 'rac_wam_umd_edu', 'organization', 'university', 'of', 'maryland_college_park', 'lines', 'was', 'wondering', 'if', 'anyone', 'out', 'there', 'could', 'enlighten', 'me', 'on', 'this', 'car', 'saw', 'the', 'other', 'day', 'it', 'was', 'door', 'sports', 'car', 'looked', 'to', 'be', 'from', 'the', 'late', 'early', 'it', 'was', 'called', 'bricklin', 'the', 'doors', 'were', 'really', 'small', 'in', 'addition', 'the', 'front_bumper', 'was', 'separate', 'from', 'the', 'rest', 'of', 'the', 'body', 'this', 'is', 'all', 'know', 'if', 'anyone', 'can', 'tellme', 'model', 'name', 'engine', 'specs', 'years', 'of', 'production', 'where', 'this', 'car', 'is', 'made', 'history', 'or', 'whatever', 'info', 'you', 'have', 'on', 'this', 'funky', 'looking', 'car', 'please', 'mail', 'thanks', 'il', 'brought', 'to', 'you', 'by', 'your', 'neighborhood', 'lerxst']\n"
     ]
    }
   ],
   "source": [
    "# Build the bigram and trigram models\n",
    "bigram = gensim.models.Phrases(data_words, min_count=5, threshold=100) # higher threshold fewer phrases.\n",
    "trigram = gensim.models.Phrases(bigram[data_words], threshold=100)  \n",
    "\n",
    "# Faster way to get a sentence clubbed as a trigram/bigram\n",
    "bigram_mod = gensim.models.phrases.Phraser(bigram)\n",
    "trigram_mod = gensim.models.phrases.Phraser(trigram)\n",
    "\n",
    "# See trigram example\n",
    "print(trigram_mod[bigram_mod[data_words[0]]])"
   ]
  },
  {
   "cell_type": "code",
   "execution_count": 7,
   "metadata": {},
   "outputs": [],
   "source": [
    "# Define functions for stopwords, bigrams, trigrams and lemmatization\n",
    "def remove_stopwords(texts):\n",
    "    return [[word for word in simple_preprocess(str(doc)) if word not in stop_words] for doc in texts]\n",
    "\n",
    "def make_bigrams(texts):\n",
    "    return [bigram_mod[doc] for doc in texts]\n",
    "\n",
    "def make_trigrams(texts):\n",
    "    return [trigram_mod[bigram_mod[doc]] for doc in texts]\n"
   ]
  },
  {
   "cell_type": "code",
   "execution_count": 8,
   "metadata": {},
   "outputs": [],
   "source": [
    "# Remove Stop Words\n",
    "data_words_nostops = remove_stopwords(data_words)\n",
    "\n",
    "# Form Bigrams\n",
    "data_words_bigrams = make_bigrams(data_words_nostops)\n",
    "\n",
    "\n",
    "\n"
   ]
  },
  {
   "cell_type": "code",
   "execution_count": 9,
   "metadata": {},
   "outputs": [
    {
     "name": "stdout",
     "output_type": "stream",
     "text": [
      "[[(0, 1), (1, 2), (2, 1), (3, 1), (4, 1), (5, 1), (6, 5), (7, 1), (8, 1), (9, 1), (10, 1), (11, 1), (12, 1), (13, 1), (14, 1), (15, 1), (16, 1), (17, 1), (18, 1), (19, 1), (20, 1), (21, 1), (22, 1), (23, 1), (24, 1), (25, 1), (26, 1), (27, 1), (28, 1), (29, 1), (30, 1), (31, 1), (32, 1), (33, 1), (34, 1), (35, 1), (36, 1), (37, 1), (38, 1), (39, 1), (40, 1), (41, 1), (42, 1), (43, 1), (44, 1), (45, 1), (46, 1), (47, 1), (48, 1), (49, 1), (50, 1), (51, 1), (52, 1), (53, 1)]]\n"
     ]
    }
   ],
   "source": [
    "# Create Dictionary\n",
    "id2word = corpora.Dictionary(data_words_bigrams)\n",
    "\n",
    "# Create Corpus\n",
    "texts = data_words_bigrams\n",
    "\n",
    "# Term Document Frequency\n",
    "corpus = [id2word.doc2bow(text) for text in texts]\n",
    "\n",
    "# View\n",
    "print(corpus[:1])"
   ]
  },
  {
   "cell_type": "code",
   "execution_count": 10,
   "metadata": {},
   "outputs": [
    {
     "data": {
      "text/plain": [
       "[[('addition', 1),\n",
       "  ('anyone', 2),\n",
       "  ('body', 1),\n",
       "  ('bricklin', 1),\n",
       "  ('brought', 1),\n",
       "  ('called', 1),\n",
       "  ('car', 5),\n",
       "  ('could', 1),\n",
       "  ('day', 1),\n",
       "  ('door', 1),\n",
       "  ('doors', 1),\n",
       "  ('early', 1),\n",
       "  ('engine', 1),\n",
       "  ('enlighten', 1),\n",
       "  ('front_bumper', 1),\n",
       "  ('funky', 1),\n",
       "  ('history', 1),\n",
       "  ('host', 1),\n",
       "  ('il', 1),\n",
       "  ('info', 1),\n",
       "  ('know', 1),\n",
       "  ('late', 1),\n",
       "  ('lerxst', 1),\n",
       "  ('lines', 1),\n",
       "  ('looked', 1),\n",
       "  ('looking', 1),\n",
       "  ('made', 1),\n",
       "  ('mail', 1),\n",
       "  ('maryland_college', 1),\n",
       "  ('model', 1),\n",
       "  ('name', 1),\n",
       "  ('neighborhood', 1),\n",
       "  ('nntp_posting', 1),\n",
       "  ('organization', 1),\n",
       "  ('park', 1),\n",
       "  ('please', 1),\n",
       "  ('production', 1),\n",
       "  ('rac_wam', 1),\n",
       "  ('really', 1),\n",
       "  ('rest', 1),\n",
       "  ('saw', 1),\n",
       "  ('separate', 1),\n",
       "  ('small', 1),\n",
       "  ('specs', 1),\n",
       "  ('sports', 1),\n",
       "  ('tellme', 1),\n",
       "  ('thanks', 1),\n",
       "  ('thing', 1),\n",
       "  ('umd', 1),\n",
       "  ('university', 1),\n",
       "  ('whatever', 1),\n",
       "  ('wheres', 1),\n",
       "  ('wondering', 1),\n",
       "  ('years', 1)]]"
      ]
     },
     "execution_count": 10,
     "metadata": {},
     "output_type": "execute_result"
    }
   ],
   "source": [
    "# Human readable format of corpus (term-frequency)\n",
    "[[(id2word[id], freq) for id, freq in cp] for cp in corpus[:1]]"
   ]
  },
  {
   "cell_type": "code",
   "execution_count": 11,
   "metadata": {},
   "outputs": [],
   "source": [
    "# Build LDA model\n",
    "lda_model = gensim.models.ldamodel.LdaModel(corpus=corpus,\n",
    "                                           id2word=id2word,\n",
    "                                           num_topics=20, \n",
    "                                           random_state=100,\n",
    "                                           update_every=1,\n",
    "                                           chunksize=100,\n",
    "                                           passes=10,\n",
    "                                           alpha='auto',\n",
    "                                           per_word_topics=True)"
   ]
  },
  {
   "cell_type": "code",
   "execution_count": 12,
   "metadata": {},
   "outputs": [
    {
     "name": "stdout",
     "output_type": "stream",
     "text": [
      "[(0,\n",
      "  '0.207*\"god\" + 0.065*\"jesus\" + 0.063*\"faith\" + 0.061*\"christians\" + '\n",
      "  '0.054*\"bible\" + 0.046*\"christian\" + 0.031*\"church\" + 0.028*\"christianity\" + '\n",
      "  '0.024*\"christ\" + 0.015*\"revelation\"'),\n",
      " (1,\n",
      "  '0.052*\"newsreader_tin\" + 0.044*\"self\" + 0.042*\"la\" + 0.041*\"version_pl\" + '\n",
      "  '0.032*\"al\" + 0.017*\"helmet\" + 0.017*\"activity\" + 0.015*\"levels\" + '\n",
      "  '0.015*\"power_supply\" + 0.015*\"concerns\"'),\n",
      " (2,\n",
      "  '0.013*\"may\" + 0.013*\"two\" + 0.013*\"first\" + 0.012*\"new\" + 0.011*\"also\" + '\n",
      "  '0.009*\"number\" + 0.007*\"year\" + 0.006*\"information\" + 0.006*\"time\" + '\n",
      "  '0.006*\"name\"'),\n",
      " (3,\n",
      "  '0.067*\"car\" + 0.054*\"senses\" + 0.029*\"bike\" + 0.024*\"speak\" + '\n",
      "  '0.022*\"engine\" + 0.017*\"dod\" + 0.015*\"larger\" + 0.015*\"stolen\" + '\n",
      "  '0.014*\"disagree\" + 0.012*\"miles\"'),\n",
      " (4,\n",
      "  '0.110*\"physical\" + 0.031*\"dc\" + 0.031*\"direct\" + 0.021*\"ac\" + 0.018*\"oo\" + '\n",
      "  '0.018*\"gov\" + 0.018*\"ab\" + 0.017*\"spacecraft\" + 0.017*\"vms_vnews\" + '\n",
      "  '0.017*\"software_vax\"'),\n",
      " (5,\n",
      "  '0.051*\"team\" + 0.045*\"game\" + 0.037*\"win\" + 0.036*\"sale\" + 0.031*\"year\" + '\n",
      "  '0.030*\"points\" + 0.028*\"games\" + 0.027*\"play\" + 0.022*\"teams\" + '\n",
      "  '0.022*\"color\"'),\n",
      " (6,\n",
      "  '0.055*\"key\" + 0.021*\"public\" + 0.021*\"encryption\" + 0.021*\"security\" + '\n",
      "  '0.020*\"distribution_na\" + 0.019*\"keys\" + 0.018*\"master\" + 0.017*\"system\" + '\n",
      "  '0.016*\"chip\" + 0.016*\"clipper\"'),\n",
      " (7,\n",
      "  '0.712*\"ax\" + 0.057*\"max\" + 0.010*\"el\" + 0.009*\"mu\" + 0.007*\"saturn\" + '\n",
      "  '0.005*\"mr\" + 0.005*\"rt\" + 0.005*\"vw\" + 0.003*\"ft\" + 0.003*\"gt\"'),\n",
      " (8,\n",
      "  '0.031*\"lines\" + 0.030*\"organization\" + 0.020*\"writes\" + 0.019*\"article\" + '\n",
      "  '0.016*\"would\" + 0.016*\"like\" + 0.013*\"one\" + 0.013*\"nntp_posting\" + '\n",
      "  '0.012*\"university\" + 0.012*\"know\"'),\n",
      " (9,\n",
      "  '0.036*\"israel\" + 0.015*\"israeli\" + 0.015*\"war\" + 0.014*\"soldiers\" + '\n",
      "  '0.013*\"jews\" + 0.012*\"said\" + 0.012*\"killed\" + 0.010*\"women\" + '\n",
      "  '0.010*\"government\" + 0.009*\"turks\"'),\n",
      " (10,\n",
      "  '0.095*\"space\" + 0.029*\"science\" + 0.029*\"talking\" + 0.028*\"patient\" + '\n",
      "  '0.025*\"die\" + 0.023*\"health\" + 0.021*\"lots\" + 0.020*\"nasa\" + 0.019*\"ground\" '\n",
      "  '+ 0.018*\"research\"'),\n",
      " (11,\n",
      "  '0.031*\"people\" + 0.015*\"would\" + 0.014*\"one\" + 0.014*\"us\" + '\n",
      "  '0.013*\"evidence\" + 0.013*\"believe\" + 0.012*\"reason\" + 0.012*\"say\" + '\n",
      "  '0.010*\"many\" + 0.010*\"think\"'),\n",
      " (12,\n",
      "  '0.022*\"system\" + 0.022*\"drive\" + 0.019*\"mail\" + 0.015*\"computer\" + '\n",
      "  '0.014*\"using\" + 0.013*\"software\" + 0.013*\"data\" + 0.013*\"com\" + '\n",
      "  '0.012*\"available\" + 0.012*\"email\"'),\n",
      " (13,\n",
      "  '0.033*\"faq\" + 0.024*\"events\" + 0.023*\"display\" + 0.022*\"function\" + '\n",
      "  '0.018*\"mit\" + 0.016*\"object\" + 0.013*\"ice\" + 0.013*\"answers\" + '\n",
      "  '0.013*\"joseph\" + 0.012*\"ltd\"'),\n",
      " (14,\n",
      "  '0.035*\"switch\" + 0.029*\"nec\" + 0.024*\"mw\" + 0.019*\"pack\" + 0.018*\"finland\" '\n",
      "  '+ 0.016*\"cap\" + 0.015*\"circuits\" + 0.014*\"sgi\" + 0.013*\"bj\" + '\n",
      "  '0.012*\"factors\"'),\n",
      " (15,\n",
      "  '0.061*\"rsa\" + 0.038*\"update\" + 0.026*\"load\" + 0.015*\"allen\" + 0.013*\"mets\" '\n",
      "  '+ 0.012*\"ms_windows\" + 0.009*\"ratio\" + 0.009*\"click\" + 0.007*\"eff\" + '\n",
      "  '0.006*\"maryland_college\"'),\n",
      " (16,\n",
      "  '0.065*\"pin\" + 0.057*\"disk\" + 0.043*\"telnet\" + 0.041*\"period\" + '\n",
      "  '0.030*\"processor\" + 0.022*\"kevin\" + 0.019*\"ns\" + 0.017*\"doug\" + '\n",
      "  '0.014*\"configuration\" + 0.012*\"fl\"'),\n",
      " (17,\n",
      "  '0.071*\"windows\" + 0.050*\"file\" + 0.037*\"files\" + 0.031*\"graphics\" + '\n",
      "  '0.029*\"dos\" + 0.027*\"entry\" + 0.027*\"window\" + 0.023*\"md\" + 0.021*\"unix\" + '\n",
      "  '0.019*\"motif\"'),\n",
      " (18,\n",
      "  '0.029*\"st\" + 0.026*\"season\" + 0.023*\"vs\" + 0.021*\"scott\" + 0.020*\"em\" + '\n",
      "  '0.018*\"dave\" + 0.018*\"wings\" + 0.018*\"boston\" + 0.017*\"van\" + 0.016*\"ed\"'),\n",
      " (19,\n",
      "  '0.039*\"government\" + 0.033*\"gun\" + 0.028*\"public\" + 0.025*\"state\" + '\n",
      "  '0.022*\"president\" + 0.020*\"guns\" + 0.020*\"rights\" + 0.016*\"clinton\" + '\n",
      "  '0.014*\"police\" + 0.014*\"law\"')]\n"
     ]
    }
   ],
   "source": [
    "# Print the Keyword in the 10 topics\n",
    "pprint(lda_model.print_topics())\n",
    "doc_lda = lda_model[corpus]"
   ]
  },
  {
   "cell_type": "code",
   "execution_count": 14,
   "metadata": {},
   "outputs": [
    {
     "name": "stdout",
     "output_type": "stream",
     "text": [
      "\n",
      "Perplexity:  -15.943457211329687\n",
      "\n",
      "Coherence Score:  0.4984020542176178\n"
     ]
    }
   ],
   "source": [
    "# Compute Perplexity\n",
    "print('\\nPerplexity: ', lda_model.log_perplexity(corpus))  # a measure of how good the model is. lower the better.\n",
    "\n",
    "# Compute Coherence Score\n",
    "coherence_model_lda = CoherenceModel(model=lda_model, texts=data_words_bigrams, dictionary=id2word, coherence='c_v')\n",
    "coherence_lda = coherence_model_lda.get_coherence()\n",
    "print('\\nCoherence Score: ', coherence_lda)"
   ]
  },
  {
   "cell_type": "code",
   "execution_count": null,
   "metadata": {},
   "outputs": [],
   "source": []
  }
 ],
 "metadata": {
  "kernelspec": {
   "display_name": "Python 3",
   "language": "python",
   "name": "python3"
  },
  "language_info": {
   "codemirror_mode": {
    "name": "ipython",
    "version": 3
   },
   "file_extension": ".py",
   "mimetype": "text/x-python",
   "name": "python",
   "nbconvert_exporter": "python",
   "pygments_lexer": "ipython3",
   "version": "3.7.6"
  }
 },
 "nbformat": 4,
 "nbformat_minor": 4
}
